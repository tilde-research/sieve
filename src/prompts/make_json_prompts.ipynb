{
 "cells": [
  {
   "cell_type": "code",
   "execution_count": null,
   "metadata": {},
   "outputs": [],
   "source": [
    "import json\n",
    "\n",
    "filename = \"not_regex_code.txt\"\n",
    "new_filename = filename.replace(\".txt\", \".json\")\n",
    "\n",
    "code = open(filename, \"r\").read().split(\"<BREAK>\")\n",
    "\n",
    "print(code)\n"
   ]
  },
  {
   "cell_type": "code",
   "execution_count": null,
   "metadata": {},
   "outputs": [],
   "source": [
    "import json\n",
    "\n",
    "filename = \"not_regex_code.txt\"\n",
    "new_filename = filename.replace(\".txt\", \".json\")\n",
    "\n",
    "code = open(filename, \"r\").read().split(\"<BREAK>\")\n",
    "\n",
    "print(code)\n"
   ]
  },
  {
   "cell_type": "code",
   "execution_count": null,
   "metadata": {},
   "outputs": [],
   "source": [
    "data = {f\"{i+1}\": code[i] for i in range(len(code))}\n",
    "\n",
    "with open(new_filename, \"a\") as f:\n",
    "    json.dump(data, f)"
   ]
  },
  {
   "cell_type": "code",
   "execution_count": null,
   "metadata": {},
   "outputs": [],
   "source": [
    "with open(new_filename, \"r\") as f:\n",
    "    data = json.load(f)\n",
    "\n",
    "print(data[\"1\"])"
   ]
  },
  {
   "cell_type": "code",
   "execution_count": null,
   "metadata": {},
   "outputs": [],
   "source": [
    "import json\n",
    "\n",
    "not_regex_filename = \"not_regex_code.txt\"\n",
    "new_filename = \"activation_counting_code.json\"\n",
    "\n",
    "not_regex_code = open(not_regex_filename, \"r\").read().split(\"<BREAK>\")\n",
    "\n",
    "print(not_regex_code)\n",
    "\n",
    "regex_code = open(\"code.txt\", \"r\").read().split(\"<BREAK>\")\n",
    "questions = open(\"user_questions.txt\", \"r\").read().split(\"<BREAK>\")\n",
    "\n",
    "data = {}\n",
    "\n",
    "for i in range(len(not_regex_code)):\n",
    "    data[f\"not_regex_{i+1}\"] = not_regex_code[i]\n",
    "    data[f\"regex_{i+1}\"] = regex_code[i]\n",
    "\n",
    "with open(new_filename, \"w\") as f:\n",
    "    json.dump(data, f)"
   ]
  }
 ],
 "metadata": {
  "kernelspec": {
   "display_name": "base",
   "language": "python",
   "name": "python3"
  },
  "language_info": {
   "codemirror_mode": {
    "name": "ipython",
    "version": 3
   },
   "file_extension": ".py",
   "mimetype": "text/x-python",
   "name": "python",
   "nbconvert_exporter": "python",
   "pygments_lexer": "ipython3",
   "version": "3.10.13"
  }
 },
 "nbformat": 4,
 "nbformat_minor": 2
}
