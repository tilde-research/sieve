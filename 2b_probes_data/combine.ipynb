{
 "cells": [
  {
   "cell_type": "code",
   "execution_count": 4,
   "metadata": {},
   "outputs": [
    {
     "name": "stdout",
     "output_type": "stream",
     "text": [
      "dict_keys(['config', 'constant_sae', 'constant_steering_vector', 'conditional_per_token', 'sae_steering_vector'])\n",
      "dict_keys(['config', 'probe_steering_vector', 'probe_sae', 'conditional_clamping', 'conditional_steering_vector'])\n",
      "dict_keys(['config', 'probe_sae_clamping', 'probe_steering_vector_clamping'])\n"
     ]
    }
   ],
   "source": [
    "import pickle\n",
    "\n",
    "filename1 = \"results_mmlu_evals_baseline.pkl\"\n",
    "filename2 = \"results_mmlu_evals.pkl\"\n",
    "filename3 = \"probe_only_results_mmlu_evals.pkl\"\n",
    "filename3 = \"probe_clamping_results_mmlu_evals.pkl\"\n",
    "\n",
    "with open(filename1, \"rb\") as f:\n",
    "    results1 = pickle.load(f)\n",
    "\n",
    "with open(filename2, \"rb\") as f:\n",
    "    results2 = pickle.load(f)\n",
    "\n",
    "with open(filename3, \"rb\") as f:\n",
    "    results3 = pickle.load(f)\n",
    "\n",
    "print(results1.keys())\n",
    "print(results2.keys())\n",
    "print(results3.keys())\n",
    "\n",
    "for key in results2:\n",
    "    if key != \"config\":\n",
    "        results1[key] = results2[key]\n",
    "\n",
    "with open(\"results_mmlu_evals_combined.pkl\", \"wb\") as f:\n",
    "    pickle.dump(results1, f)"
   ]
  }
 ],
 "metadata": {
  "kernelspec": {
   "display_name": ".venv",
   "language": "python",
   "name": "python3"
  },
  "language_info": {
   "codemirror_mode": {
    "name": "ipython",
    "version": 3
   },
   "file_extension": ".py",
   "mimetype": "text/x-python",
   "name": "python",
   "nbconvert_exporter": "python",
   "pygments_lexer": "ipython3",
   "version": "3.11.8"
  }
 },
 "nbformat": 4,
 "nbformat_minor": 2
}
